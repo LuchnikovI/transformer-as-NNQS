{
  "nbformat": 4,
  "nbformat_minor": 0,
  "metadata": {
    "colab": {
      "name": "attention_check.ipynb",
      "provenance": [],
      "collapsed_sections": []
    },
    "kernelspec": {
      "name": "python3",
      "display_name": "Python 3"
    },
    "accelerator": "GPU"
  },
  "cells": [
    {
      "cell_type": "code",
      "metadata": {
        "id": "mXi-1heCFFsD"
      },
      "source": [
        "import tensorflow as tf\n",
        "from math import pi\n",
        "!git clone 'https://github.com/LuchnikovI/transformer-as-NNQS'\n",
        "%cd 'transformer-as-NNQS'\n",
        "from transformer import attention_model\n",
        "from ar_wave_function import AutoregressiveWaveFunction as Psi\n",
        "from tqdm import tqdm\n",
        "import matplotlib.pyplot as plt"
      ],
      "execution_count": null,
      "outputs": []
    },
    {
      "cell_type": "code",
      "metadata": {
        "id": "6W7iuMfjFSa6",
        "colab": {
          "base_uri": "https://localhost:8080/"
        },
        "outputId": "e6d71b4b-04dd-47be-a9a6-cdabf456d204"
      },
      "source": [
        "#----------------------------Parameters----------------------------#\n",
        "n = 32  # total number of spins\n",
        "separation = (8, 4)  # shows how we split a sustem into subsystems\n",
        "iters = 5000  # total number of iterations\n",
        "lr_in = 0.001  # initial learning rate\n",
        "lr_out = 0.0001  # final learning rate\n",
        "number_of_samples = 1024  # number of samples per iteration\n",
        "heads_number = 8  # number of attention heads\n",
        "number_of_layers = 2  # number of layers\n",
        "embedding_dim = 16\n",
        "#-------------------------------------------------------------------#\n",
        "\n",
        "#---------------------------Hamiltonian-----------------------------#\n",
        "# zz pauli strings\n",
        "zz = 3 * (tf.eye(n, dtype=tf.int32) +\\\n",
        "          tf.roll(tf.eye(n, dtype=tf.int32), shift=1, axis=-1))\n",
        "zz = zz[:-1]\n",
        "# x pauli strings\n",
        "x = tf.eye(n, dtype=tf.int32)\n",
        "# all pauli strings\n",
        "H = tf.concat([x, zz], axis=0)\n",
        "# amplitudes of pauli strings\n",
        "ampl = tf.ones((2 * n - 1,), dtype=tf.complex64)\n",
        "# representation of a Hamiltonian\n",
        "h = [H, ampl]\n",
        "#-------------------------------------------------------------------#\n",
        "\n",
        "# optimizer\n",
        "decay_coeff = (lr_out / lr_in) ** (1 / iters)\n",
        "sch = tf.optimizers.schedules.ExponentialDecay(lr_in, iters, decay_coeff)\n",
        "opt = tf.optimizers.Adam(sch)\n",
        "\n",
        "# keras ar model\n",
        "model = attention_model(2 ** separation[1],\n",
        "                        embedding_dim,\n",
        "                        heads_number,\n",
        "                        number_of_layers,\n",
        "                        separation[0] + 1)\n",
        "\n",
        "# ar based wave function\n",
        "psi = Psi(model)\n",
        "\n",
        "E_list = []  # will be filled by intermediate values of energy\n",
        "E_av = tf.constant(0.)  # initial average energy (baseline)\n",
        "\n",
        "# training loop\n",
        "for i in tqdm(range(iters)):\n",
        "    samples = psi.sample(number_of_samples, separation[0])\n",
        "    gradient, E = psi.grad(h, samples, separation, E_av)\n",
        "    E_av = E_av * 0.99 + E * 0.01\n",
        "    opt.apply_gradients(zip(gradient, psi.model.weights))\n",
        "    E_list.append(E_av / n)\n",
        "    if i % 200 == 1:\n",
        "        print(E_av)"
      ],
      "execution_count": 10,
      "outputs": [
        {
          "output_type": "stream",
          "text": [
            "  0%|          | 2/5000 [00:02<1:48:39,  1.30s/it]"
          ],
          "name": "stderr"
        },
        {
          "output_type": "stream",
          "text": [
            "tf.Tensor(0.038345575, shape=(), dtype=float32)\n"
          ],
          "name": "stdout"
        },
        {
          "output_type": "stream",
          "text": [
            "  4%|▍         | 202/5000 [00:55<21:32,  3.71it/s]"
          ],
          "name": "stderr"
        },
        {
          "output_type": "stream",
          "text": [
            "tf.Tensor(-32.300785, shape=(), dtype=float32)\n"
          ],
          "name": "stdout"
        },
        {
          "output_type": "stream",
          "text": [
            "  8%|▊         | 402/5000 [01:50<20:50,  3.68it/s]"
          ],
          "name": "stderr"
        },
        {
          "output_type": "stream",
          "text": [
            "tf.Tensor(-38.533073, shape=(), dtype=float32)\n"
          ],
          "name": "stdout"
        },
        {
          "output_type": "stream",
          "text": [
            " 12%|█▏        | 602/5000 [02:45<20:14,  3.62it/s]"
          ],
          "name": "stderr"
        },
        {
          "output_type": "stream",
          "text": [
            "tf.Tensor(-39.53458, shape=(), dtype=float32)\n"
          ],
          "name": "stdout"
        },
        {
          "output_type": "stream",
          "text": [
            " 16%|█▌        | 802/5000 [03:40<19:24,  3.61it/s]"
          ],
          "name": "stderr"
        },
        {
          "output_type": "stream",
          "text": [
            "tf.Tensor(-39.801785, shape=(), dtype=float32)\n"
          ],
          "name": "stdout"
        },
        {
          "output_type": "stream",
          "text": [
            " 20%|██        | 1002/5000 [04:35<18:38,  3.58it/s]"
          ],
          "name": "stderr"
        },
        {
          "output_type": "stream",
          "text": [
            "tf.Tensor(-39.899605, shape=(), dtype=float32)\n"
          ],
          "name": "stdout"
        },
        {
          "output_type": "stream",
          "text": [
            " 24%|██▍       | 1202/5000 [05:32<18:01,  3.51it/s]"
          ],
          "name": "stderr"
        },
        {
          "output_type": "stream",
          "text": [
            "tf.Tensor(-39.997387, shape=(), dtype=float32)\n"
          ],
          "name": "stdout"
        },
        {
          "output_type": "stream",
          "text": [
            " 28%|██▊       | 1402/5000 [06:28<16:55,  3.54it/s]"
          ],
          "name": "stderr"
        },
        {
          "output_type": "stream",
          "text": [
            "tf.Tensor(-40.0766, shape=(), dtype=float32)\n"
          ],
          "name": "stdout"
        },
        {
          "output_type": "stream",
          "text": [
            " 32%|███▏      | 1602/5000 [07:24<16:05,  3.52it/s]"
          ],
          "name": "stderr"
        },
        {
          "output_type": "stream",
          "text": [
            "tf.Tensor(-40.108395, shape=(), dtype=float32)\n"
          ],
          "name": "stdout"
        },
        {
          "output_type": "stream",
          "text": [
            " 36%|███▌      | 1802/5000 [08:20<15:02,  3.54it/s]"
          ],
          "name": "stderr"
        },
        {
          "output_type": "stream",
          "text": [
            "tf.Tensor(-40.17825, shape=(), dtype=float32)\n"
          ],
          "name": "stdout"
        },
        {
          "output_type": "stream",
          "text": [
            " 40%|████      | 2002/5000 [09:17<14:01,  3.56it/s]"
          ],
          "name": "stderr"
        },
        {
          "output_type": "stream",
          "text": [
            "tf.Tensor(-40.20743, shape=(), dtype=float32)\n"
          ],
          "name": "stdout"
        },
        {
          "output_type": "stream",
          "text": [
            " 44%|████▍     | 2202/5000 [10:13<12:55,  3.61it/s]"
          ],
          "name": "stderr"
        },
        {
          "output_type": "stream",
          "text": [
            "tf.Tensor(-40.25084, shape=(), dtype=float32)\n"
          ],
          "name": "stdout"
        },
        {
          "output_type": "stream",
          "text": [
            " 48%|████▊     | 2402/5000 [11:09<12:07,  3.57it/s]"
          ],
          "name": "stderr"
        },
        {
          "output_type": "stream",
          "text": [
            "tf.Tensor(-40.2635, shape=(), dtype=float32)\n"
          ],
          "name": "stdout"
        },
        {
          "output_type": "stream",
          "text": [
            " 52%|█████▏    | 2602/5000 [12:05<11:28,  3.48it/s]"
          ],
          "name": "stderr"
        },
        {
          "output_type": "stream",
          "text": [
            "tf.Tensor(-40.27122, shape=(), dtype=float32)\n"
          ],
          "name": "stdout"
        },
        {
          "output_type": "stream",
          "text": [
            " 56%|█████▌    | 2802/5000 [13:01<10:17,  3.56it/s]"
          ],
          "name": "stderr"
        },
        {
          "output_type": "stream",
          "text": [
            "tf.Tensor(-40.28867, shape=(), dtype=float32)\n"
          ],
          "name": "stdout"
        },
        {
          "output_type": "stream",
          "text": [
            " 60%|██████    | 3002/5000 [13:57<09:20,  3.56it/s]"
          ],
          "name": "stderr"
        },
        {
          "output_type": "stream",
          "text": [
            "tf.Tensor(-40.295204, shape=(), dtype=float32)\n"
          ],
          "name": "stdout"
        },
        {
          "output_type": "stream",
          "text": [
            " 64%|██████▍   | 3202/5000 [14:53<08:20,  3.59it/s]"
          ],
          "name": "stderr"
        },
        {
          "output_type": "stream",
          "text": [
            "tf.Tensor(-40.29696, shape=(), dtype=float32)\n"
          ],
          "name": "stdout"
        },
        {
          "output_type": "stream",
          "text": [
            " 68%|██████▊   | 3402/5000 [15:49<07:27,  3.57it/s]"
          ],
          "name": "stderr"
        },
        {
          "output_type": "stream",
          "text": [
            "tf.Tensor(-40.30972, shape=(), dtype=float32)\n"
          ],
          "name": "stdout"
        },
        {
          "output_type": "stream",
          "text": [
            " 72%|███████▏  | 3602/5000 [16:45<06:32,  3.56it/s]"
          ],
          "name": "stderr"
        },
        {
          "output_type": "stream",
          "text": [
            "tf.Tensor(-40.297955, shape=(), dtype=float32)\n"
          ],
          "name": "stdout"
        },
        {
          "output_type": "stream",
          "text": [
            " 76%|███████▌  | 3802/5000 [17:41<05:37,  3.55it/s]"
          ],
          "name": "stderr"
        },
        {
          "output_type": "stream",
          "text": [
            "tf.Tensor(-40.315002, shape=(), dtype=float32)\n"
          ],
          "name": "stdout"
        },
        {
          "output_type": "stream",
          "text": [
            " 80%|████████  | 4002/5000 [18:37<04:38,  3.59it/s]"
          ],
          "name": "stderr"
        },
        {
          "output_type": "stream",
          "text": [
            "tf.Tensor(-40.31351, shape=(), dtype=float32)\n"
          ],
          "name": "stdout"
        },
        {
          "output_type": "stream",
          "text": [
            " 84%|████████▍ | 4202/5000 [19:33<03:43,  3.58it/s]"
          ],
          "name": "stderr"
        },
        {
          "output_type": "stream",
          "text": [
            "tf.Tensor(-40.319046, shape=(), dtype=float32)\n"
          ],
          "name": "stdout"
        },
        {
          "output_type": "stream",
          "text": [
            " 88%|████████▊ | 4402/5000 [20:29<02:48,  3.54it/s]"
          ],
          "name": "stderr"
        },
        {
          "output_type": "stream",
          "text": [
            "tf.Tensor(-40.32573, shape=(), dtype=float32)\n"
          ],
          "name": "stdout"
        },
        {
          "output_type": "stream",
          "text": [
            " 92%|█████████▏| 4602/5000 [21:26<01:53,  3.51it/s]"
          ],
          "name": "stderr"
        },
        {
          "output_type": "stream",
          "text": [
            "tf.Tensor(-40.327015, shape=(), dtype=float32)\n"
          ],
          "name": "stdout"
        },
        {
          "output_type": "stream",
          "text": [
            " 96%|█████████▌| 4802/5000 [22:22<00:56,  3.52it/s]"
          ],
          "name": "stderr"
        },
        {
          "output_type": "stream",
          "text": [
            "tf.Tensor(-40.330853, shape=(), dtype=float32)\n"
          ],
          "name": "stdout"
        },
        {
          "output_type": "stream",
          "text": [
            "100%|██████████| 5000/5000 [23:18<00:00,  3.58it/s]\n"
          ],
          "name": "stderr"
        }
      ]
    },
    {
      "cell_type": "code",
      "metadata": {
        "id": "7KWRH_TKxyVN",
        "colab": {
          "base_uri": "https://localhost:8080/",
          "height": 282
        },
        "outputId": "230b637a-6cb4-4fca-8b9b-101bc7e5c6bd"
      },
      "source": [
        "# plotting E vs iter\n",
        "dmrgE = -1.2620097862880841  # dmgr based gs energy\n",
        "plt.plot((tf.convert_to_tensor(E_list) - dmrgE) / tf.abs(dmrgE))\n",
        "plt.yscale('log')\n",
        "print(E_list[-1])"
      ],
      "execution_count": 12,
      "outputs": [
        {
          "output_type": "stream",
          "text": [
            "tf.Tensor(-1.2601753, shape=(), dtype=float32)\n"
          ],
          "name": "stdout"
        },
        {
          "output_type": "display_data",
          "data": {
            "image/png": "[encoded data removed]",
            "text/plain": [
              "<Figure size 432x288 with 1 Axes>"
            ]
          },
          "metadata": {
            "tags": [],
            "needs_background": "light"
          }
        }
      ]
    },
    {
      "cell_type": "code",
      "metadata": {
        "colab": {
          "base_uri": "https://localhost:8080/",
          "height": 782
        },
        "id": "FWkc4gTPQyW3",
        "outputId": "b1a8af4d-ec72-4b2d-bcab-3f554eec2560"
      },
      "source": [
        "# Plotting corr. functions\n",
        "\n",
        "#----------------Parameters--------------#\n",
        "num_of_samples = 1024\n",
        "num_of_iter = 1000\n",
        "#----------------------------------------#\n",
        "\n",
        "# pauli strings\n",
        "pauli_string = tf.eye(n, dtype=tf.int32)[1:]\n",
        "pauli_string = tf.concat([tf.ones((n-1, 1), dtype=tf.int32),\n",
        "                          pauli_string[:, 1:]], axis=1)\n",
        "pauli_string = tf.concat([pauli_string,\n",
        "                          2 * pauli_string,\n",
        "                          3 * pauli_string], axis=0)\n",
        "ampl = tf.ones((tf.shape(pauli_string)[0],))\n",
        "\n",
        "corr_func = tf.zeros((tf.shape(pauli_string)[0],))\n",
        "for _ in range(num_of_iter):\n",
        "    samples = psi.sample(num_of_samples, separation[0])\n",
        "    corr_func = corr_func + psi.observables_average([pauli_string, ampl], samples, separation)[0]\n",
        "corr_func = corr_func / num_of_iter\n",
        "corr_func = tf.reshape(corr_func, (3, -1))\n",
        "plt.figure()\n",
        "plt.plot(corr_func[0])\n",
        "plt.figure()\n",
        "plt.plot(corr_func[1])\n",
        "plt.figure()\n",
        "plt.plot(corr_func[2])"
      ],
      "execution_count": 13,
      "outputs": [
        {
          "output_type": "execute_result",
          "data": {
            "text/plain": [
              "[<matplotlib.lines.Line2D at 0x7fec72fc66d8>]"
            ]
          },
          "metadata": {
            "tags": []
          },
          "execution_count": 13
        },
        {
          "output_type": "display_data",
          "data": {
            "image/png": "[encoded data removed]",
            "text/plain": [
              "<Figure size 432x288 with 1 Axes>"
            ]
          },
          "metadata": {
            "tags": [],
            "needs_background": "light"
          }
        },
        {
          "output_type": "display_data",
          "data": {
            "image/png": "[encoded data removed]",
            "text/plain": [
              "<Figure size 432x288 with 1 Axes>"
            ]
          },
          "metadata": {
            "tags": [],
            "needs_background": "light"
          }
        },
        {
          "output_type": "display_data",
          "data": {
            "image/png": "[encoded data removed]",
            "text/plain": [
              "<Figure size 432x288 with 1 Axes>"
            ]
          },
          "metadata": {
            "tags": [],
            "needs_background": "light"
          }
        }
      ]
    }
  ]
}